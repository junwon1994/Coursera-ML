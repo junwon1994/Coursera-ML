{
 "cells": [
  {
   "cell_type": "code",
   "execution_count": 1,
   "metadata": {},
   "outputs": [],
   "source": [
    "## Exercise 2: Logistic Regression\n",
    "\n",
    "%matplotlib inline\n",
    "\n",
    "import numpy as np\n",
    "import matplotlib.pyplot as plt\n",
    "\n",
    "from scipy.optimize import minimize"
   ]
  },
  {
   "cell_type": "code",
   "execution_count": 2,
   "metadata": {},
   "outputs": [],
   "source": [
    "# Load data\n",
    "data = np.loadtxt('../ex2/ex2data1.txt', delimiter=',')\n",
    "X = data[:, :2]\n",
    "y = data[:, 2]"
   ]
  },
  {
   "cell_type": "code",
   "execution_count": 3,
   "metadata": {},
   "outputs": [],
   "source": [
    "## Part 1: Plotting\n",
    "\n",
    "def plotData(X, y):\n",
    "    pos = X[y == 1]\n",
    "    neg = X[y == 0]\n",
    "\n",
    "    plt.plot(pos[:, 0], pos[:, 1], 'k+', linewidth=2, markersize=7)\n",
    "    plt.plot(neg[:, 0], neg[:, 1], 'ko', markerfacecolor='y', markersize=7)"
   ]
  },
  {
   "cell_type": "code",
   "execution_count": 4,
   "metadata": {},
   "outputs": [
    {
     "name": "stdout",
     "output_type": "stream",
     "text": [
      "Plotting data with + indicating (y = 1) examples and o indicating (y = 0) examples.\n"
     ]
    },
    {
     "data": {
      "image/png": "[encoded data removed]",
      "text/plain": [
       "<matplotlib.figure.Figure at 0x105d625c0>"
      ]
     },
     "metadata": {},
     "output_type": "display_data"
    }
   ],
   "source": [
    "print('Plotting data with + indicating (y = 1) examples and o '\\\n",
    "      'indicating (y = 0) examples.')\n",
    "\n",
    "plt.figure(figsize=(9, 6))\n",
    "plotData(X, y)\n",
    "\n",
    "# Put some labels\n",
    "# Labels and Legend\n",
    "plt.xlabel('Exam 1 score')\n",
    "plt.ylabel('Exam 2 score')\n",
    "\n",
    "# Specified in plot order\n",
    "plt.legend(['Admitted', 'Not admitted'], loc='upper right', shadow=True)\n",
    "None"
   ]
  },
  {
   "cell_type": "code",
   "execution_count": 5,
   "metadata": {},
   "outputs": [],
   "source": [
    "## Part 2: Compute Cost and Gradient\n",
    "\n",
    "def sigmoid(z):\n",
    "    g = 1 / (1 + np.exp(-z))\n",
    "\n",
    "    return g\n",
    "\n",
    "\n",
    "def costFunction(theta, X, y):\n",
    "    m = len(y)\n",
    "    \n",
    "    z = X.dot(theta)\n",
    "    h = sigmoid(z)\n",
    "    \n",
    "    J = (-y.dot(np.log(h)) - (1 - y).dot(np.log(1 - h))) / m\n",
    "    grad = (h - y).dot(X) / m\n",
    "    \n",
    "    return J, grad"
   ]
  },
  {
   "cell_type": "code",
   "execution_count": 6,
   "metadata": {},
   "outputs": [
    {
     "name": "stdout",
     "output_type": "stream",
     "text": [
      "Cost at initial theta (zeros): 0.693\n",
      "Expected cost (approx): 0.693\n",
      "Gradient at initial theta (zeros): \n",
      " [ -0.1    -12.0092 -11.2628] \n",
      "Expected gradients (approx):\n",
      " [-0.1000  -12.0092 -11.2628]\n",
      "\n",
      "Cost at test theta: 0.218\n",
      "Expected cost (approx): 0.218\n",
      "Gradient at test theta: \n",
      " [0.043 2.566 2.647] \n",
      "Expected gradients (approx):\n",
      " [0.043 2.566 2.647]\n"
     ]
    }
   ],
   "source": [
    "#  Setup the data matrix appropriately, and add ones for the intercept term\n",
    "m, n = np.shape(X)\n",
    "\n",
    "# Add intercept term to x and X_test\n",
    "X = np.c_[np.ones(m), X]\n",
    "\n",
    "# Initialize fitting parameters\n",
    "initial_theta = np.zeros(n + 1)\n",
    "\n",
    "# Compute and display initial cost and gradient\n",
    "cost, grad = costFunction(initial_theta, X, y)\n",
    "\n",
    "np.set_printoptions(precision=4)\n",
    "print('Cost at initial theta (zeros): {:.3f}'.format(cost));\n",
    "print('Expected cost (approx): 0.693');\n",
    "print('Gradient at initial theta (zeros): ');\n",
    "print(' {} '.format(grad));\n",
    "print('Expected gradients (approx):\\n [-0.1000  -12.0092 -11.2628]');\n",
    "\n",
    "# Compute and display cost and gradient with non-zero theta\n",
    "test_theta = np.array([-24, 0.2, 0.2])\n",
    "cost, grad = costFunction(test_theta, X, y)\n",
    "\n",
    "np.set_printoptions(precision=3)\n",
    "print('\\nCost at test theta: {:.3f}'.format(cost));\n",
    "print('Expected cost (approx): 0.218');\n",
    "print('Gradient at test theta: ');\n",
    "print(' {} '.format(grad));\n",
    "print('Expected gradients (approx):\\n [0.043 2.566 2.647]');"
   ]
  },
  {
   "cell_type": "code",
   "execution_count": 7,
   "metadata": {},
   "outputs": [],
   "source": [
    "## Part 3: Optimizing using minimize\n",
    "\n",
    "def plotDecisionBoundary(theta, X, y):\n",
    "    # Plot Data\n",
    "    plotData(X[:, 1:], y)\n",
    "    \n",
    "    # Only need 2 points to define a line, so choose two endpoints\n",
    "    plot_x = np.array([min(X[:, 1]) - 2, max(X[:, 1]) + 2])\n",
    "        \n",
    "    # Calculate the decision boundary line\n",
    "    plot_y = -(theta[1] * plot_x + theta[0]) / theta[2]\n",
    "        \n",
    "    # Plot, and adjust axes for better viewing\n",
    "    plt.plot(plot_x, plot_y)\n",
    "    "
   ]
  },
  {
   "cell_type": "code",
   "execution_count": 8,
   "metadata": {},
   "outputs": [
    {
     "name": "stderr",
     "output_type": "stream",
     "text": [
      "/usr/local/Cellar/python3/3.6.4_2/Frameworks/Python.framework/Versions/3.6/lib/python3.6/site-packages/ipykernel_launcher.py:15: RuntimeWarning: divide by zero encountered in log\n",
      "  from ipykernel import kernelapp as app\n"
     ]
    },
    {
     "name": "stdout",
     "output_type": "stream",
     "text": [
      "Cost at theta found by minimize: 0.203\n",
      "Expected cost (approx): 0.203\n",
      "Theta found by minimize:\n",
      " [-25.148   0.206   0.201] \n",
      "Expected theta (approx):\n",
      " [-25.161   0.206   0.201]\n"
     ]
    },
    {
     "data": {
      "image/png": "[encoded data removed]",
      "text/plain": [
       "<matplotlib.figure.Figure at 0x106265550>"
      ]
     },
     "metadata": {},
     "output_type": "display_data"
    }
   ],
   "source": [
    "#  Set options for minimize\n",
    "options = {'maxiter': 400}\n",
    "\n",
    "#  Run minimize to obtain the optimal theta\n",
    "#  This function will return information of training\n",
    "result = minimize(lambda t: costFunction(t, X, y), initial_theta, \n",
    "    method='CG',jac=True, options=options)\n",
    "theta = result['x']\n",
    "cost = result['fun']\n",
    "\n",
    "# Print theta to screen\n",
    "print('Cost at theta found by minimize: {:.3f}'.format(cost))\n",
    "print('Expected cost (approx): 0.203')\n",
    "print('Theta found by minimize:')\n",
    "print(' {} '.format(theta))\n",
    "print('Expected theta (approx):')\n",
    "print(' [-25.161   0.206   0.201]')\n",
    "\n",
    "# Plot Boundary\n",
    "plt.figure(figsize=(9, 6))\n",
    "plotDecisionBoundary(theta, X, y)\n",
    "\n",
    "# Put some labels\n",
    "# Labels and Legend\n",
    "plt.xlabel('Exam 1 score')\n",
    "plt.ylabel('Exam 2 score')\n",
    "\n",
    "plt.legend(['Admitted', 'Not admitted', 'Decision Boundary'], \n",
    "          loc='upper right', shadow=True)\n",
    "None"
   ]
  },
  {
   "cell_type": "code",
   "execution_count": 9,
   "metadata": {},
   "outputs": [],
   "source": [
    "## Part 4: Predict and Accuracies\n",
    "\n",
    "def predict(theta, X):\n",
    "    m = len(X)\n",
    "    \n",
    "    p = np.zeros(m)\n",
    "    \n",
    "    z = X.dot(theta)\n",
    "    h = sigmoid(z)\n",
    "    \n",
    "    p[h >= 0.5] = 1\n",
    "    \n",
    "    return p"
   ]
  },
  {
   "cell_type": "code",
   "execution_count": 10,
   "metadata": {},
   "outputs": [
    {
     "name": "stdout",
     "output_type": "stream",
     "text": [
      "For a student with scores 45 and 85, we predict an admission probability of 0.776\n",
      "Expected value: 0.775 +/- 0.002\n",
      "\n",
      "Train Accuracy: 89.0\n",
      "Expected accuracy (approx): 89.0\n",
      "\n"
     ]
    }
   ],
   "source": [
    "#  Predict probability for a student with score 45 on exam1\n",
    "#  and score 85 on exam 2\n",
    "\n",
    "prob = sigmoid(np.array([1, 45, 85]).dot(theta))\n",
    "print('For a student with scores 45 and 85, we predict an admission '\\\n",
    "      'probability of {:.3f}'.format(prob))\n",
    "print('Expected value: 0.775 +/- 0.002\\n')\n",
    "\n",
    "# Compute accuracy on our training set\n",
    "p = predict(theta, X)\n",
    "\n",
    "print('Train Accuracy: {:.1f}'.format(np.mean(p == y) * 100))\n",
    "print('Expected accuracy (approx): 89.0\\n')"
   ]
  }
 ],
 "metadata": {
  "kernelspec": {
   "display_name": "Python 3",
   "language": "python",
   "name": "python3"
  },
  "language_info": {
   "codemirror_mode": {
    "name": "ipython",
    "version": 3
   },
   "file_extension": ".py",
   "mimetype": "text/x-python",
   "name": "python",
   "nbconvert_exporter": "python",
   "pygments_lexer": "ipython3",
   "version": "3.6.4"
  }
 },
 "nbformat": 4,
 "nbformat_minor": 2
}
