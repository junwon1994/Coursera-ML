{
 "cells": [
  {
   "cell_type": "code",
   "execution_count": 1,
   "metadata": {},
   "outputs": [],
   "source": [
    "# Exercise 1: Linear regression with multiple variables\n",
    "\n",
    "%matplotlib inline\n",
    "\n",
    "import numpy as np\n",
    "import matplotlib.pyplot as plt"
   ]
  },
  {
   "cell_type": "code",
   "execution_count": 2,
   "metadata": {},
   "outputs": [
    {
     "name": "stdout",
     "output_type": "stream",
     "text": [
      "Loading data ...\n",
      "First 5 examples from the dataset: \n",
      "X = \n",
      "[[2104.    3.]\n",
      " [1600.    3.]\n",
      " [2400.    3.]\n",
      " [1416.    2.]\n",
      " [3000.    4.]],\n",
      "\n",
      "y = \n",
      "[399900. 329900. 369000. 232000. 539900.]\n"
     ]
    }
   ],
   "source": [
    "# Part 1: Feature Normalization\n",
    "\n",
    "print('Loading data ...')\n",
    "\n",
    "# Load Data\n",
    "data = np.loadtxt('../ex1/ex1data2.txt', delimiter=',')\n",
    "X = data[:, :2]\n",
    "y = data[:, 2]\n",
    "m = len(y)\n",
    "\n",
    "# Print out some data points\n",
    "np.set_printoptions(precision=2, suppress=True)\n",
    "print('First 5 examples from the dataset: ')\n",
    "print('X = \\n{},\\n\\ny = \\n{}'.format(X[:5], y[:5]))"
   ]
  },
  {
   "cell_type": "code",
   "execution_count": 3,
   "metadata": {},
   "outputs": [],
   "source": [
    "def featureNormalize(X):\n",
    "    X_norm = X\n",
    "    \n",
    "    mu = np.mean(X, axis=0)\n",
    "    X_norm -= mu\n",
    "    \n",
    "    sigma = np.std(X, axis=0, ddof=1)\n",
    "    X_norm /= sigma\n",
    "    \n",
    "    return X_norm, mu, sigma"
   ]
  },
  {
   "cell_type": "code",
   "execution_count": 4,
   "metadata": {},
   "outputs": [
    {
     "name": "stdout",
     "output_type": "stream",
     "text": [
      "Normalizing Features ...\n",
      "First 5 examples from the normalized dataset(X): \n",
      "X = \n",
      "[[ 1.    0.13 -0.22]\n",
      " [ 1.   -0.5  -0.22]\n",
      " [ 1.    0.5  -0.22]\n",
      " [ 1.   -0.74 -1.54]\n",
      " [ 1.    1.26  1.09]]\n"
     ]
    }
   ],
   "source": [
    "# Scale features and set them to zero mean\n",
    "print('Normalizing Features ...')\n",
    "\n",
    "X, mu, sigma = featureNormalize(X);\n",
    "\n",
    "# Add intercept term to X\n",
    "X = np.c_[np.ones(m), X]\n",
    "\n",
    "print('First 5 examples from the normalized dataset(X): ')\n",
    "print('X = \\n{}'.format(X[:5]))"
   ]
  },
  {
   "cell_type": "code",
   "execution_count": 5,
   "metadata": {},
   "outputs": [],
   "source": [
    "def computeCostMulti(X, y, theta):\n",
    "    m = len(y)\n",
    "    \n",
    "    hypothesis = np.dot(X, theta)\n",
    "    error = hypothesis - y\n",
    "    \n",
    "    J = np.dot(error.T, error) / (2 * m)\n",
    "    \n",
    "    return J\n",
    "\n",
    "def gradientDescentMulti(X, y, theta, alpha, num_iters):\n",
    "    m = len(y)\n",
    "    J_history = np.zeros(num_iters)\n",
    "    \n",
    "    for i in range(num_iters):\n",
    "        hypothesis = np.dot(X, theta)\n",
    "        error = hypothesis - y\n",
    "        \n",
    "        theta_grad = np.dot(X.T, error) / m\n",
    "        \n",
    "        theta -= alpha * theta_grad\n",
    "        J_history[i] = computeCostMulti(X, y, theta)\n",
    "        \n",
    "    return theta, J_history"
   ]
  },
  {
   "cell_type": "code",
   "execution_count": 6,
   "metadata": {},
   "outputs": [
    {
     "name": "stdout",
     "output_type": "stream",
     "text": [
      "Running gradient descent ...\n"
     ]
    },
    {
     "data": {
      "image/png": "[encoded data removed]",
      "text/plain": [
       "<matplotlib.figure.Figure at 0x1053ab128>"
      ]
     },
     "metadata": {},
     "output_type": "display_data"
    }
   ],
   "source": [
    "# Part 2: Gradient Descent\n",
    "\n",
    "print('Running gradient descent ...')\n",
    "\n",
    "# Choose some alpha value\n",
    "alphas = (0.3, 0.1, 0.03, 0.01)\n",
    "num_iters = 400\n",
    "\n",
    "fig = plt.figure(figsize=(8, 5))\n",
    "ax = fig.add_subplot(1, 1, 1)\n",
    "for alpha in alphas:\n",
    "    # Init Theta and Run Gradient Descent\n",
    "    theta = np.zeros(3)\n",
    "    theta, J_history = gradientDescentMulti(X, y, theta, alpha, num_iters)\n",
    "    \n",
    "    # Plot the convergence graph\n",
    "    ax.plot(J_history[:50], label='alpha = {:.2f}'.format(alpha))\n",
    "    \n",
    "ax.legend(loc='upper right')\n",
    "ax.set_xlabel('Number of iterations')\n",
    "ax.set_ylabel('Cost J')\n",
    "None"
   ]
  },
  {
   "cell_type": "code",
   "execution_count": 7,
   "metadata": {},
   "outputs": [
    {
     "name": "stdout",
     "output_type": "stream",
     "text": [
      "Theta computed from gradient descent: \n",
      "[334302.06 100087.12   3673.55] \n",
      "\n",
      "Predicted price of a 1650 sq-ft, 3 br house (using gradient descent):\n",
      " $165489064.12\n"
     ]
    }
   ],
   "source": [
    "# Display gradient descent's result\n",
    "print('Theta computed from gradient descent: ')\n",
    "print(theta, '\\n')\n",
    "\n",
    "# Estimate the price of a 1650 sq-ft, 3 br house\n",
    "price = np.dot(np.array([1, 1650, 3]), theta)\n",
    "print('Predicted price of a 1650 sq-ft, 3 br house '\\\n",
    "      '(using gradient descent):\\n ${:.2f}'.format(price))"
   ]
  },
  {
   "cell_type": "code",
   "execution_count": 8,
   "metadata": {},
   "outputs": [],
   "source": [
    "def normalEqn(X, y):\n",
    "    Gramian = np.dot(X.T, X)\n",
    "    moment = np.dot(X.T, y)\n",
    "    \n",
    "    theta = np.dot(np.linalg.pinv(Gramian), moment)\n",
    "    \n",
    "    return theta"
   ]
  },
  {
   "cell_type": "code",
   "execution_count": 9,
   "metadata": {},
   "outputs": [
    {
     "name": "stdout",
     "output_type": "stream",
     "text": [
      "Solving with normal equations...\n",
      "Theta computed from the normal equations: \n",
      "[89597.91   139.21 -8738.02] \n",
      "\n",
      "Predicted price of a 1650 sq-ft, 3 br house (using normal equations):\n",
      " $293081.46\n"
     ]
    }
   ],
   "source": [
    "# Part 3: Normal Equations\n",
    "\n",
    "print('Solving with normal equations...')\n",
    "\n",
    "# Load Data\n",
    "data = np.loadtxt('../ex1/ex1data2.txt', delimiter=',')\n",
    "X = data[:, :2]\n",
    "y = data[:, 2]\n",
    "m = len(y)\n",
    "\n",
    "# Add intercept term to X\n",
    "X = np.c_[np.ones(m), X]\n",
    "\n",
    "# Calculate the parameters from the normal equation\n",
    "theta = normalEqn(X, y)\n",
    "\n",
    "# Display normal equation's result\n",
    "print('Theta computed from the normal equations: ');\n",
    "print(theta, '\\n');\n",
    "\n",
    "# Estimate the price of a 1650 sq-ft, 3 br house\n",
    "price = np.dot(np.array([1, 1650, 3]), theta)\n",
    "print('Predicted price of a 1650 sq-ft, 3 br house '\\\n",
    "      '(using normal equations):\\n ${:.2f}'.format(price))"
   ]
  }
 ],
 "metadata": {
  "kernelspec": {
   "display_name": "Python 3",
   "language": "python",
   "name": "python3"
  },
  "language_info": {
   "codemirror_mode": {
    "name": "ipython",
    "version": 3
   },
   "file_extension": ".py",
   "mimetype": "text/x-python",
   "name": "python",
   "nbconvert_exporter": "python",
   "pygments_lexer": "ipython3",
   "version": "3.6.4"
  }
 },
 "nbformat": 4,
 "nbformat_minor": 2
}
