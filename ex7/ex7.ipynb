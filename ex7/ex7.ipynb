{
 "cells": [
  {
   "cell_type": "markdown",
   "metadata": {},
   "source": [
    "<h5>================= Part 1: Find Closest Centroids ====================</h5>\n",
    "<p>To help you implement K-Means, we have divided the learning algorithm</br>\n",
    "into two functions -- findClosestCentroids and computeCentroids. In this</br>\n",
    "part, you should complete the code in the findClosestCentroids function.</p>"
   ]
  },
  {
   "cell_type": "markdown",
   "metadata": {},
   "source": [
    "<h6>Finding closest centroids.</h6>"
   ]
  },
  {
   "cell_type": "code",
   "execution_count": 9,
   "metadata": {},
   "outputs": [
    {
     "name": "stdout",
     "output_type": "stream",
     "text": [
      "X shape: (300, 2)\n"
     ]
    }
   ],
   "source": [
    "# Load an example dataset that we will be using\n",
    "from scipy.io import loadmat\n",
    "\n",
    "data = loadmat('ex7data2.mat')\n",
    "X = data['X']"
   ]
  },
  {
   "cell_type": "code",
   "execution_count": 10,
   "metadata": {},
   "outputs": [
    {
     "name": "stdout",
     "output_type": "stream",
     "text": [
      "centroid shape: (3, 2)\n"
     ]
    }
   ],
   "source": [
    "# Select an initial set of centroids\n",
    "import numpy as np\n",
    "\n",
    "K = 3  # 3 Centroids\n",
    "initial_centroids = np.array([[3, 3], [6, 2], [8, 5]])"
   ]
  },
  {
   "cell_type": "markdown",
   "metadata": {},
   "source": [
    "findClosestCentroids computes the centroid membership for every example</br></br>\n",
    "findClosestCentroids(X, centroids) returns the closest centroids</br>\n",
    "in idx for a dataset X where wach row is a single example. idx = m x 1</br>\n",
    "vector of centroid assignments (i.e. each entry in range [1..K])</br>"
   ]
  },
  {
   "cell_type": "code",
   "execution_count": 15,
   "metadata": {},
   "outputs": [],
   "source": [
    "def findClosestCentroids(X, centroids):\n",
    "    m = np.size(X, 0)\n",
    "    \n",
    "    # Set K\n",
    "    K = np.size(centroids, 0)\n",
    "    \n",
    "    # You need to return the following variables correctly.\n",
    "    idx = np.zeros(m)\n",
    "    \n",
    "    for i in range(m):\n",
    "        min_cost = np.inf\n",
    "        for k in range(K):\n",
    "            diff = X[i, :] - centroids[k, :]\n",
    "            cost = diff.T @ diff\n",
    "            if (cost < min_cost):\n",
    "                idx[i] = k\n",
    "                min_cost = cost\n",
    "    \n",
    "    return idx.astype(np.int)"
   ]
  },
  {
   "cell_type": "code",
   "execution_count": 16,
   "metadata": {},
   "outputs": [
    {
     "name": "stdout",
     "output_type": "stream",
     "text": [
      "Closest centroids for the first 3 examples: \n",
      "[1 3 2]\n",
      "(the closest centroids should be 1, 3, 2 respectively)\n"
     ]
    }
   ],
   "source": [
    "# Find the closest centroids for the examples using the initial_centroids\n",
    "idx = findClosestCentroids(X, initial_centroids)\n",
    "\n",
    "print('Closest centroids for the first 3 examples: \\n', end='')\n",
    "print(idx[:3] + 1, end='')\n",
    "print('\\n(the closest centroids should be 1, 3, 2 respectively)\\n', end='')"
   ]
  },
  {
   "cell_type": "markdown",
   "metadata": {},
   "source": [
    "<h5>===================== Part 2: Compute Means =========================</h5>\n",
    "<p>After implementing the closest centroids function, you should now</br>\n",
    "complete the computeCentroids function.</p>"
   ]
  },
  {
   "cell_type": "markdown",
   "metadata": {},
   "source": [
    "<h6>Computing centroids mean.</h6>"
   ]
  },
  {
   "cell_type": "markdown",
   "metadata": {},
   "source": [
    "<h5>computeCentroids returns the new centroids by computing the means of the data<br>points assigned to each centroid.</h5>\n",
    "\n",
    "<p>computeCentroids(X, idx, K) returns the new centroids by computing the<br>\n",
    "means of the data points assigned to each centroid. It is given a dataset X<br>\n",
    "where each row is a single data point, a vector idx of centroid assignments<br>\n",
    "(i.e. each entry in range [1..K]) for each example, and K, the number of<br> centroids. You should return a matrix centroids, where each row of centroids<br>\n",
    "is the <b>mean of the data points</b> assigned to it.</p>"
   ]
  },
  {
   "cell_type": "code",
   "execution_count": 17,
   "metadata": {},
   "outputs": [],
   "source": [
    "def computeCentroids(X, idx, K):\n",
    "    \n",
    "    # Useful variables\n",
    "    m, n = X.shape\n",
    "    \n",
    "    # You need to return the following variables correctly.\n",
    "    centroids = np.zeros((K, n))\n",
    "    \n",
    "    for k in range(K):\n",
    "        n_k = 0\n",
    "        sum = np.zeros(n)\n",
    "        for i in range(m):\n",
    "            if idx[i] == k:\n",
    "                sum += X[i, :]\n",
    "                n_k += 1\n",
    "        centroids[k, :] = sum / n_k\n",
    "    \n",
    "    \n",
    "    return centroids"
   ]
  },
  {
   "cell_type": "code",
   "execution_count": 21,
   "metadata": {},
   "outputs": [
    {
     "name": "stdout",
     "output_type": "stream",
     "text": [
      "Centroids computed after initial finding of closest centroids: \n",
      "[[2.42830111 3.15792418]\n",
      " [5.81350331 2.63365645]\n",
      " [7.11938687 3.6166844 ]]\n",
      "\n",
      "(the centroids should be)\n",
      "   [ 2.428301 3.157924 ]\n",
      "   [ 5.813503 2.633656 ]\n",
      "   [ 7.119387 3.616684 ]\n",
      "\n"
     ]
    }
   ],
   "source": [
    "# Compute means based on the closest centroids found in the previous part.\n",
    "centroids = computeCentroids(X, idx, K)\n",
    "\n",
    "print('Centroids computed after initial finding of closest centroids: \\n', end='')\n",
    "print(centroids)\n",
    "print('\\n(the centroids should be)\\n', end='')\n",
    "print('   [ 2.428301 3.157924 ]\\n', end='')\n",
    "print('   [ 5.813503 2.633656 ]\\n', end='')\n",
    "print('   [ 7.119387 3.616684 ]\\n\\n', end='')"
   ]
  },
  {
   "cell_type": "code",
   "execution_count": null,
   "metadata": {},
   "outputs": [],
   "source": []
  }
 ],
 "metadata": {
  "kernelspec": {
   "display_name": "Python 3",
   "language": "python",
   "name": "python3"
  },
  "language_info": {
   "codemirror_mode": {
    "name": "ipython",
    "version": 3
   },
   "file_extension": ".py",
   "mimetype": "text/x-python",
   "name": "python",
   "nbconvert_exporter": "python",
   "pygments_lexer": "ipython3",
   "version": "3.6.4"
  }
 },
 "nbformat": 4,
 "nbformat_minor": 2
}
